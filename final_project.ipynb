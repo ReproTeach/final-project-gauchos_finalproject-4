{
 "cells": [
  {
   "cell_type": "markdown",
   "id": "8b750025-903e-443c-a7d2-2198a797cd7d",
   "metadata": {},
   "source": [
    "# Your Final Project Title\n",
    "\n",
    "- member 1: Vanessa Aispuro \n",
    "- member 2: Alyssa Alamillo\n",
    "- member 3: Jaime Gomez \n",
    "- ..."
   ]
  },
  {
   "cell_type": "markdown",
   "id": "0b17b8fc-8c3c-4ca8-b7f2-60d9d16d31a5",
   "metadata": {
    "tags": []
   },
   "source": [
    "# Research Questions "
   ]
  },
  {
   "cell_type": "markdown",
   "id": "71def1b8-0676-46e5-8770-cc07023b9ece",
   "metadata": {
    "tags": []
   },
   "source": [
    "# Introduction "
   ]
  },
  {
   "cell_type": "code",
   "execution_count": null,
   "id": "59c56050-80cf-4106-bbd7-a6a84b407d37",
   "metadata": {},
   "outputs": [],
   "source": []
  }
 ],
 "metadata": {
  "kernelspec": {
   "display_name": "Python 3 (ipykernel)",
   "language": "python",
   "name": "python3"
  },
  "language_info": {
   "codemirror_mode": {
    "name": "ipython",
    "version": 3
   },
   "file_extension": ".py",
   "mimetype": "text/x-python",
   "name": "python",
   "nbconvert_exporter": "python",
   "pygments_lexer": "ipython3",
   "version": "3.10.9"
  }
 },
 "nbformat": 4,
 "nbformat_minor": 5
}
